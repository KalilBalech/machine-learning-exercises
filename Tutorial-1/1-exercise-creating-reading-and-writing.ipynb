{
 "cells": [
  {
   "cell_type": "markdown",
   "id": "7c500ee9",
   "metadata": {
    "papermill": {
     "duration": 0.007365,
     "end_time": "2023-06-02T21:04:20.633268",
     "exception": false,
     "start_time": "2023-06-02T21:04:20.625903",
     "status": "completed"
    },
    "tags": []
   },
   "source": [
    "**This notebook is an exercise in the [Pandas](https://www.kaggle.com/learn/pandas) course.  You can reference the tutorial at [this link](https://www.kaggle.com/residentmario/creating-reading-and-writing).**\n",
    "\n",
    "---\n"
   ]
  },
  {
   "cell_type": "markdown",
   "id": "4c46ff1d",
   "metadata": {
    "papermill": {
     "duration": 0.006115,
     "end_time": "2023-06-02T21:04:20.645943",
     "exception": false,
     "start_time": "2023-06-02T21:04:20.639828",
     "status": "completed"
    },
    "tags": []
   },
   "source": [
    "# Introduction\n",
    "\n",
    "The first step in most data analytics projects is reading the data file. In this exercise, you'll create Series and DataFrame objects, both by hand and by reading data files.\n",
    "\n",
    "Run the code cell below to load libraries you will need (including code to check your answers)."
   ]
  },
  {
   "cell_type": "code",
   "execution_count": 1,
   "id": "f7863305",
   "metadata": {
    "execution": {
     "iopub.execute_input": "2023-06-02T21:04:20.660430Z",
     "iopub.status.busy": "2023-06-02T21:04:20.659993Z",
     "iopub.status.idle": "2023-06-02T21:04:22.337496Z",
     "shell.execute_reply": "2023-06-02T21:04:22.336421Z"
    },
    "papermill": {
     "duration": 1.688099,
     "end_time": "2023-06-02T21:04:22.340498",
     "exception": false,
     "start_time": "2023-06-02T21:04:20.652399",
     "status": "completed"
    },
    "tags": []
   },
   "outputs": [
    {
     "name": "stdout",
     "output_type": "stream",
     "text": [
      "Setup complete.\n"
     ]
    }
   ],
   "source": [
    "import pandas as pd\n",
    "pd.set_option('display.max_rows', 5)\n",
    "from learntools.core import binder; binder.bind(globals())\n",
    "from learntools.pandas.creating_reading_and_writing import *\n",
    "print(\"Setup complete.\")"
   ]
  },
  {
   "cell_type": "markdown",
   "id": "d9c4f51f",
   "metadata": {
    "papermill": {
     "duration": 0.00626,
     "end_time": "2023-06-02T21:04:22.353308",
     "exception": false,
     "start_time": "2023-06-02T21:04:22.347048",
     "status": "completed"
    },
    "tags": []
   },
   "source": [
    "# Exercises"
   ]
  },
  {
   "cell_type": "markdown",
   "id": "1f2f54cb",
   "metadata": {
    "papermill": {
     "duration": 0.006139,
     "end_time": "2023-06-02T21:04:22.365854",
     "exception": false,
     "start_time": "2023-06-02T21:04:22.359715",
     "status": "completed"
    },
    "tags": []
   },
   "source": [
    "## 1.\n",
    "\n",
    "In the cell below, create a DataFrame `fruits` that looks like this:\n",
    "\n",
    "![](https://storage.googleapis.com/kaggle-media/learn/images/Ax3pp2A.png)"
   ]
  },
  {
   "cell_type": "code",
   "execution_count": 2,
   "id": "526dcc32",
   "metadata": {
    "execution": {
     "iopub.execute_input": "2023-06-02T21:04:22.382091Z",
     "iopub.status.busy": "2023-06-02T21:04:22.381508Z",
     "iopub.status.idle": "2023-06-02T21:04:22.404015Z",
     "shell.execute_reply": "2023-06-02T21:04:22.402769Z"
    },
    "papermill": {
     "duration": 0.034261,
     "end_time": "2023-06-02T21:04:22.406476",
     "exception": false,
     "start_time": "2023-06-02T21:04:22.372215",
     "status": "completed"
    },
    "tags": []
   },
   "outputs": [
    {
     "data": {
      "text/html": [
       "<div>\n",
       "<style scoped>\n",
       "    .dataframe tbody tr th:only-of-type {\n",
       "        vertical-align: middle;\n",
       "    }\n",
       "\n",
       "    .dataframe tbody tr th {\n",
       "        vertical-align: top;\n",
       "    }\n",
       "\n",
       "    .dataframe thead th {\n",
       "        text-align: right;\n",
       "    }\n",
       "</style>\n",
       "<table border=\"1\" class=\"dataframe\">\n",
       "  <thead>\n",
       "    <tr style=\"text-align: right;\">\n",
       "      <th></th>\n",
       "      <th>Apples</th>\n",
       "      <th>Bananas</th>\n",
       "    </tr>\n",
       "  </thead>\n",
       "  <tbody>\n",
       "    <tr>\n",
       "      <th>0</th>\n",
       "      <td>30</td>\n",
       "      <td>21</td>\n",
       "    </tr>\n",
       "  </tbody>\n",
       "</table>\n",
       "</div>"
      ],
      "text/plain": [
       "   Apples  Bananas\n",
       "0      30       21"
      ]
     },
     "execution_count": 2,
     "metadata": {},
     "output_type": "execute_result"
    }
   ],
   "source": [
    "# Your code goes here. Create a dataframe matching the above diagram and assign it to the variable fruits.\n",
    "fruits = pd.DataFrame({'Apples': [30], \n",
    "              'Bananas': [21]})\n",
    "\n",
    "# Check your answer\n",
    "#fruits.check()\n",
    "fruits"
   ]
  },
  {
   "cell_type": "code",
   "execution_count": 3,
   "id": "6eb3846f",
   "metadata": {
    "execution": {
     "iopub.execute_input": "2023-06-02T21:04:22.421632Z",
     "iopub.status.busy": "2023-06-02T21:04:22.421234Z",
     "iopub.status.idle": "2023-06-02T21:04:22.425713Z",
     "shell.execute_reply": "2023-06-02T21:04:22.424627Z"
    },
    "papermill": {
     "duration": 0.014773,
     "end_time": "2023-06-02T21:04:22.428050",
     "exception": false,
     "start_time": "2023-06-02T21:04:22.413277",
     "status": "completed"
    },
    "tags": []
   },
   "outputs": [],
   "source": [
    "#q1.hint()\n",
    "#q1.solution()"
   ]
  },
  {
   "cell_type": "markdown",
   "id": "b49c3abb",
   "metadata": {
    "papermill": {
     "duration": 0.006529,
     "end_time": "2023-06-02T21:04:22.441618",
     "exception": false,
     "start_time": "2023-06-02T21:04:22.435089",
     "status": "completed"
    },
    "tags": []
   },
   "source": [
    "## 2.\n",
    "\n",
    "Create a dataframe `fruit_sales` that matches the diagram below:\n",
    "\n",
    "![](https://storage.googleapis.com/kaggle-media/learn/images/CHPn7ZF.png)"
   ]
  },
  {
   "cell_type": "code",
   "execution_count": 4,
   "id": "37f0feeb",
   "metadata": {
    "execution": {
     "iopub.execute_input": "2023-06-02T21:04:22.457042Z",
     "iopub.status.busy": "2023-06-02T21:04:22.456628Z",
     "iopub.status.idle": "2023-06-02T21:04:22.467847Z",
     "shell.execute_reply": "2023-06-02T21:04:22.466733Z"
    },
    "papermill": {
     "duration": 0.021924,
     "end_time": "2023-06-02T21:04:22.470214",
     "exception": false,
     "start_time": "2023-06-02T21:04:22.448290",
     "status": "completed"
    },
    "tags": []
   },
   "outputs": [
    {
     "data": {
      "text/html": [
       "<div>\n",
       "<style scoped>\n",
       "    .dataframe tbody tr th:only-of-type {\n",
       "        vertical-align: middle;\n",
       "    }\n",
       "\n",
       "    .dataframe tbody tr th {\n",
       "        vertical-align: top;\n",
       "    }\n",
       "\n",
       "    .dataframe thead th {\n",
       "        text-align: right;\n",
       "    }\n",
       "</style>\n",
       "<table border=\"1\" class=\"dataframe\">\n",
       "  <thead>\n",
       "    <tr style=\"text-align: right;\">\n",
       "      <th></th>\n",
       "      <th>Apples</th>\n",
       "      <th>Bananas</th>\n",
       "    </tr>\n",
       "  </thead>\n",
       "  <tbody>\n",
       "    <tr>\n",
       "      <th>2017 Sales</th>\n",
       "      <td>35</td>\n",
       "      <td>21</td>\n",
       "    </tr>\n",
       "    <tr>\n",
       "      <th>2018 Sales</th>\n",
       "      <td>41</td>\n",
       "      <td>34</td>\n",
       "    </tr>\n",
       "  </tbody>\n",
       "</table>\n",
       "</div>"
      ],
      "text/plain": [
       "            Apples  Bananas\n",
       "2017 Sales      35       21\n",
       "2018 Sales      41       34"
      ]
     },
     "execution_count": 4,
     "metadata": {},
     "output_type": "execute_result"
    }
   ],
   "source": [
    "# Your code goes here. Create a dataframe matching the above diagram and assign it to the variable fruit_sales.\n",
    "fruit_sales = pd.DataFrame({'Apples': [35, 41],\n",
    "                           'Bananas': [21, 34]},\n",
    "                          index= ['2017 Sales', '2018 Sales'])\n",
    "\n",
    "# Check your answer\n",
    "#q2.check()\n",
    "fruit_sales"
   ]
  },
  {
   "cell_type": "code",
   "execution_count": 5,
   "id": "66ff01c8",
   "metadata": {
    "execution": {
     "iopub.execute_input": "2023-06-02T21:04:22.485954Z",
     "iopub.status.busy": "2023-06-02T21:04:22.485584Z",
     "iopub.status.idle": "2023-06-02T21:04:22.490021Z",
     "shell.execute_reply": "2023-06-02T21:04:22.489070Z"
    },
    "papermill": {
     "duration": 0.015121,
     "end_time": "2023-06-02T21:04:22.492412",
     "exception": false,
     "start_time": "2023-06-02T21:04:22.477291",
     "status": "completed"
    },
    "tags": []
   },
   "outputs": [],
   "source": [
    "#q2.hint()\n",
    "#q2.solution()"
   ]
  },
  {
   "cell_type": "markdown",
   "id": "9c31b3d6",
   "metadata": {
    "papermill": {
     "duration": 0.006761,
     "end_time": "2023-06-02T21:04:22.506387",
     "exception": false,
     "start_time": "2023-06-02T21:04:22.499626",
     "status": "completed"
    },
    "tags": []
   },
   "source": [
    "## 3.\n",
    "\n",
    "Create a variable `ingredients` with a Series that looks like:\n",
    "\n",
    "```\n",
    "Flour     4 cups\n",
    "Milk       1 cup\n",
    "Eggs     2 large\n",
    "Spam       1 can\n",
    "Name: Dinner, dtype: object\n",
    "```"
   ]
  },
  {
   "cell_type": "code",
   "execution_count": 6,
   "id": "2b0665a9",
   "metadata": {
    "execution": {
     "iopub.execute_input": "2023-06-02T21:04:22.522430Z",
     "iopub.status.busy": "2023-06-02T21:04:22.521915Z",
     "iopub.status.idle": "2023-06-02T21:04:22.531602Z",
     "shell.execute_reply": "2023-06-02T21:04:22.530472Z"
    },
    "papermill": {
     "duration": 0.020475,
     "end_time": "2023-06-02T21:04:22.533950",
     "exception": false,
     "start_time": "2023-06-02T21:04:22.513475",
     "status": "completed"
    },
    "tags": []
   },
   "outputs": [
    {
     "data": {
      "text/plain": [
       "Flour     4 cups\n",
       "Milk       1 cup\n",
       "Eggs     2 large\n",
       "Spam       1 can\n",
       "Name: Dinner, dtype: object"
      ]
     },
     "execution_count": 6,
     "metadata": {},
     "output_type": "execute_result"
    }
   ],
   "source": [
    "ingredients = pd.Series(['4 cups', '1 cup', '2 large', '1 can'], index=['Flour', 'Milk', 'Eggs', 'Spam'], name = 'Dinner')\n",
    "\n",
    "# Check your answer\n",
    "# q3.check()\n",
    "ingredients"
   ]
  },
  {
   "cell_type": "code",
   "execution_count": 7,
   "id": "3fc2158d",
   "metadata": {
    "execution": {
     "iopub.execute_input": "2023-06-02T21:04:22.550496Z",
     "iopub.status.busy": "2023-06-02T21:04:22.550076Z",
     "iopub.status.idle": "2023-06-02T21:04:22.554401Z",
     "shell.execute_reply": "2023-06-02T21:04:22.553321Z"
    },
    "papermill": {
     "duration": 0.015179,
     "end_time": "2023-06-02T21:04:22.556528",
     "exception": false,
     "start_time": "2023-06-02T21:04:22.541349",
     "status": "completed"
    },
    "tags": []
   },
   "outputs": [],
   "source": [
    "#q3.hint()\n",
    "#q3.solution()"
   ]
  },
  {
   "cell_type": "markdown",
   "id": "1286d7ec",
   "metadata": {
    "papermill": {
     "duration": 0.006894,
     "end_time": "2023-06-02T21:04:22.570635",
     "exception": false,
     "start_time": "2023-06-02T21:04:22.563741",
     "status": "completed"
    },
    "tags": []
   },
   "source": [
    "## 4.\n",
    "\n",
    "Read the following csv dataset of wine reviews into a DataFrame called `reviews`:\n",
    "\n",
    "![](https://storage.googleapis.com/kaggle-media/learn/images/74RCZtU.png)\n",
    "\n",
    "The filepath to the csv file is `../input/wine-reviews/winemag-data_first150k.csv`. The first few lines look like:\n",
    "\n",
    "```\n",
    ",country,description,designation,points,price,province,region_1,region_2,variety,winery\n",
    "0,US,\"This tremendous 100% varietal wine[...]\",Martha's Vineyard,96,235.0,California,Napa Valley,Napa,Cabernet Sauvignon,Heitz\n",
    "1,Spain,\"Ripe aromas of fig, blackberry and[...]\",Carodorum Selección Especial Reserva,96,110.0,Northern Spain,Toro,,Tinta de Toro,Bodega Carmen Rodríguez\n",
    "```"
   ]
  },
  {
   "cell_type": "code",
   "execution_count": 8,
   "id": "697d1f04",
   "metadata": {
    "execution": {
     "iopub.execute_input": "2023-06-02T21:04:22.587441Z",
     "iopub.status.busy": "2023-06-02T21:04:22.586733Z",
     "iopub.status.idle": "2023-06-02T21:04:23.667355Z",
     "shell.execute_reply": "2023-06-02T21:04:23.666251Z"
    },
    "papermill": {
     "duration": 1.091669,
     "end_time": "2023-06-02T21:04:23.669743",
     "exception": false,
     "start_time": "2023-06-02T21:04:22.578074",
     "status": "completed"
    },
    "tags": []
   },
   "outputs": [
    {
     "data": {
      "text/html": [
       "<div>\n",
       "<style scoped>\n",
       "    .dataframe tbody tr th:only-of-type {\n",
       "        vertical-align: middle;\n",
       "    }\n",
       "\n",
       "    .dataframe tbody tr th {\n",
       "        vertical-align: top;\n",
       "    }\n",
       "\n",
       "    .dataframe thead th {\n",
       "        text-align: right;\n",
       "    }\n",
       "</style>\n",
       "<table border=\"1\" class=\"dataframe\">\n",
       "  <thead>\n",
       "    <tr style=\"text-align: right;\">\n",
       "      <th></th>\n",
       "      <th>Unnamed: 0</th>\n",
       "      <th>country</th>\n",
       "      <th>description</th>\n",
       "      <th>designation</th>\n",
       "      <th>points</th>\n",
       "      <th>price</th>\n",
       "      <th>province</th>\n",
       "      <th>region_1</th>\n",
       "      <th>region_2</th>\n",
       "      <th>variety</th>\n",
       "      <th>winery</th>\n",
       "    </tr>\n",
       "  </thead>\n",
       "  <tbody>\n",
       "    <tr>\n",
       "      <th>0</th>\n",
       "      <td>0</td>\n",
       "      <td>US</td>\n",
       "      <td>This tremendous 100% varietal wine hails from ...</td>\n",
       "      <td>Martha's Vineyard</td>\n",
       "      <td>96</td>\n",
       "      <td>235.0</td>\n",
       "      <td>California</td>\n",
       "      <td>Napa Valley</td>\n",
       "      <td>Napa</td>\n",
       "      <td>Cabernet Sauvignon</td>\n",
       "      <td>Heitz</td>\n",
       "    </tr>\n",
       "    <tr>\n",
       "      <th>1</th>\n",
       "      <td>1</td>\n",
       "      <td>Spain</td>\n",
       "      <td>Ripe aromas of fig, blackberry and cassis are ...</td>\n",
       "      <td>Carodorum Selección Especial Reserva</td>\n",
       "      <td>96</td>\n",
       "      <td>110.0</td>\n",
       "      <td>Northern Spain</td>\n",
       "      <td>Toro</td>\n",
       "      <td>NaN</td>\n",
       "      <td>Tinta de Toro</td>\n",
       "      <td>Bodega Carmen Rodríguez</td>\n",
       "    </tr>\n",
       "    <tr>\n",
       "      <th>...</th>\n",
       "      <td>...</td>\n",
       "      <td>...</td>\n",
       "      <td>...</td>\n",
       "      <td>...</td>\n",
       "      <td>...</td>\n",
       "      <td>...</td>\n",
       "      <td>...</td>\n",
       "      <td>...</td>\n",
       "      <td>...</td>\n",
       "      <td>...</td>\n",
       "      <td>...</td>\n",
       "    </tr>\n",
       "    <tr>\n",
       "      <th>150928</th>\n",
       "      <td>150928</td>\n",
       "      <td>France</td>\n",
       "      <td>A perfect salmon shade, with scents of peaches...</td>\n",
       "      <td>Grand Brut Rosé</td>\n",
       "      <td>90</td>\n",
       "      <td>52.0</td>\n",
       "      <td>Champagne</td>\n",
       "      <td>Champagne</td>\n",
       "      <td>NaN</td>\n",
       "      <td>Champagne Blend</td>\n",
       "      <td>Gosset</td>\n",
       "    </tr>\n",
       "    <tr>\n",
       "      <th>150929</th>\n",
       "      <td>150929</td>\n",
       "      <td>Italy</td>\n",
       "      <td>More Pinot Grigios should taste like this. A r...</td>\n",
       "      <td>NaN</td>\n",
       "      <td>90</td>\n",
       "      <td>15.0</td>\n",
       "      <td>Northeastern Italy</td>\n",
       "      <td>Alto Adige</td>\n",
       "      <td>NaN</td>\n",
       "      <td>Pinot Grigio</td>\n",
       "      <td>Alois Lageder</td>\n",
       "    </tr>\n",
       "  </tbody>\n",
       "</table>\n",
       "<p>150930 rows × 11 columns</p>\n",
       "</div>"
      ],
      "text/plain": [
       "        Unnamed: 0 country                                        description  \\\n",
       "0                0      US  This tremendous 100% varietal wine hails from ...   \n",
       "1                1   Spain  Ripe aromas of fig, blackberry and cassis are ...   \n",
       "...            ...     ...                                                ...   \n",
       "150928      150928  France  A perfect salmon shade, with scents of peaches...   \n",
       "150929      150929   Italy  More Pinot Grigios should taste like this. A r...   \n",
       "\n",
       "                                 designation  points  price  \\\n",
       "0                          Martha's Vineyard      96  235.0   \n",
       "1       Carodorum Selección Especial Reserva      96  110.0   \n",
       "...                                      ...     ...    ...   \n",
       "150928                       Grand Brut Rosé      90   52.0   \n",
       "150929                                   NaN      90   15.0   \n",
       "\n",
       "                  province     region_1 region_2             variety  \\\n",
       "0               California  Napa Valley     Napa  Cabernet Sauvignon   \n",
       "1           Northern Spain         Toro      NaN       Tinta de Toro   \n",
       "...                    ...          ...      ...                 ...   \n",
       "150928           Champagne    Champagne      NaN     Champagne Blend   \n",
       "150929  Northeastern Italy   Alto Adige      NaN        Pinot Grigio   \n",
       "\n",
       "                         winery  \n",
       "0                         Heitz  \n",
       "1       Bodega Carmen Rodríguez  \n",
       "...                         ...  \n",
       "150928                   Gosset  \n",
       "150929            Alois Lageder  \n",
       "\n",
       "[150930 rows x 11 columns]"
      ]
     },
     "execution_count": 8,
     "metadata": {},
     "output_type": "execute_result"
    }
   ],
   "source": [
    "reviews = pd.read_csv('../input/wine-reviews/winemag-data_first150k.csv')\n",
    "\n",
    "# Check your answer\n",
    "# q4.check()\n",
    "reviews"
   ]
  },
  {
   "cell_type": "code",
   "execution_count": 9,
   "id": "1beeec6e",
   "metadata": {
    "execution": {
     "iopub.execute_input": "2023-06-02T21:04:23.687686Z",
     "iopub.status.busy": "2023-06-02T21:04:23.686673Z",
     "iopub.status.idle": "2023-06-02T21:04:23.691173Z",
     "shell.execute_reply": "2023-06-02T21:04:23.690433Z"
    },
    "papermill": {
     "duration": 0.015655,
     "end_time": "2023-06-02T21:04:23.693233",
     "exception": false,
     "start_time": "2023-06-02T21:04:23.677578",
     "status": "completed"
    },
    "tags": []
   },
   "outputs": [],
   "source": [
    "#q4.hint()\n",
    "#q4.solution()"
   ]
  },
  {
   "cell_type": "markdown",
   "id": "231f4818",
   "metadata": {
    "papermill": {
     "duration": 0.007549,
     "end_time": "2023-06-02T21:04:23.708471",
     "exception": false,
     "start_time": "2023-06-02T21:04:23.700922",
     "status": "completed"
    },
    "tags": []
   },
   "source": [
    "## 5.\n",
    "\n",
    "Run the cell below to create and display a DataFrame called `animals`:"
   ]
  },
  {
   "cell_type": "code",
   "execution_count": 10,
   "id": "2251999a",
   "metadata": {
    "execution": {
     "iopub.execute_input": "2023-06-02T21:04:23.725979Z",
     "iopub.status.busy": "2023-06-02T21:04:23.725289Z",
     "iopub.status.idle": "2023-06-02T21:04:23.736497Z",
     "shell.execute_reply": "2023-06-02T21:04:23.735463Z"
    },
    "papermill": {
     "duration": 0.022631,
     "end_time": "2023-06-02T21:04:23.738850",
     "exception": false,
     "start_time": "2023-06-02T21:04:23.716219",
     "status": "completed"
    },
    "tags": []
   },
   "outputs": [
    {
     "data": {
      "text/html": [
       "<div>\n",
       "<style scoped>\n",
       "    .dataframe tbody tr th:only-of-type {\n",
       "        vertical-align: middle;\n",
       "    }\n",
       "\n",
       "    .dataframe tbody tr th {\n",
       "        vertical-align: top;\n",
       "    }\n",
       "\n",
       "    .dataframe thead th {\n",
       "        text-align: right;\n",
       "    }\n",
       "</style>\n",
       "<table border=\"1\" class=\"dataframe\">\n",
       "  <thead>\n",
       "    <tr style=\"text-align: right;\">\n",
       "      <th></th>\n",
       "      <th>Cows</th>\n",
       "      <th>Goats</th>\n",
       "    </tr>\n",
       "  </thead>\n",
       "  <tbody>\n",
       "    <tr>\n",
       "      <th>Year 1</th>\n",
       "      <td>12</td>\n",
       "      <td>22</td>\n",
       "    </tr>\n",
       "    <tr>\n",
       "      <th>Year 2</th>\n",
       "      <td>20</td>\n",
       "      <td>19</td>\n",
       "    </tr>\n",
       "  </tbody>\n",
       "</table>\n",
       "</div>"
      ],
      "text/plain": [
       "        Cows  Goats\n",
       "Year 1    12     22\n",
       "Year 2    20     19"
      ]
     },
     "execution_count": 10,
     "metadata": {},
     "output_type": "execute_result"
    }
   ],
   "source": [
    "animals = pd.DataFrame({'Cows': [12, 20], 'Goats': [22, 19]}, index=['Year 1', 'Year 2'])\n",
    "animals"
   ]
  },
  {
   "cell_type": "markdown",
   "id": "792e6ca0",
   "metadata": {
    "papermill": {
     "duration": 0.007778,
     "end_time": "2023-06-02T21:04:23.754697",
     "exception": false,
     "start_time": "2023-06-02T21:04:23.746919",
     "status": "completed"
    },
    "tags": []
   },
   "source": [
    "In the cell below, write code to save this DataFrame to disk as a csv file with the name `cows_and_goats.csv`."
   ]
  },
  {
   "cell_type": "code",
   "execution_count": 11,
   "id": "f3c18462",
   "metadata": {
    "execution": {
     "iopub.execute_input": "2023-06-02T21:04:23.772796Z",
     "iopub.status.busy": "2023-06-02T21:04:23.772022Z",
     "iopub.status.idle": "2023-06-02T21:04:23.782629Z",
     "shell.execute_reply": "2023-06-02T21:04:23.781591Z"
    },
    "papermill": {
     "duration": 0.0225,
     "end_time": "2023-06-02T21:04:23.785139",
     "exception": false,
     "start_time": "2023-06-02T21:04:23.762639",
     "status": "completed"
    },
    "tags": []
   },
   "outputs": [],
   "source": [
    "# Your code goes here\n",
    "animals.to_csv('cows_and_goats.csv')\n",
    "# Check your answer\n",
    "# q5.check()"
   ]
  },
  {
   "cell_type": "code",
   "execution_count": 12,
   "id": "73197fdc",
   "metadata": {
    "execution": {
     "iopub.execute_input": "2023-06-02T21:04:23.803502Z",
     "iopub.status.busy": "2023-06-02T21:04:23.802679Z",
     "iopub.status.idle": "2023-06-02T21:04:23.807112Z",
     "shell.execute_reply": "2023-06-02T21:04:23.806350Z"
    },
    "papermill": {
     "duration": 0.016237,
     "end_time": "2023-06-02T21:04:23.809362",
     "exception": false,
     "start_time": "2023-06-02T21:04:23.793125",
     "status": "completed"
    },
    "tags": []
   },
   "outputs": [],
   "source": [
    "#q5.hint()\n",
    "#q5.solution()"
   ]
  },
  {
   "cell_type": "markdown",
   "id": "79876d8d",
   "metadata": {
    "papermill": {
     "duration": 0.007823,
     "end_time": "2023-06-02T21:04:23.825214",
     "exception": false,
     "start_time": "2023-06-02T21:04:23.817391",
     "status": "completed"
    },
    "tags": []
   },
   "source": [
    "# Keep going\n",
    "\n",
    "Move on to learn about **[indexing, selecting and assigning](https://www.kaggle.com/residentmario/indexing-selecting-assigning)**."
   ]
  },
  {
   "cell_type": "markdown",
   "id": "a57f8880",
   "metadata": {
    "papermill": {
     "duration": 0.007631,
     "end_time": "2023-06-02T21:04:23.840725",
     "exception": false,
     "start_time": "2023-06-02T21:04:23.833094",
     "status": "completed"
    },
    "tags": []
   },
   "source": [
    "---\n",
    "\n",
    "\n",
    "\n",
    "\n",
    "*Have questions or comments? Visit the [course discussion forum](https://www.kaggle.com/learn/pandas/discussion) to chat with other learners.*"
   ]
  }
 ],
 "metadata": {
  "kernelspec": {
   "display_name": "Python 3",
   "language": "python",
   "name": "python3"
  },
  "language_info": {
   "codemirror_mode": {
    "name": "ipython",
    "version": 3
   },
   "file_extension": ".py",
   "mimetype": "text/x-python",
   "name": "python",
   "nbconvert_exporter": "python",
   "pygments_lexer": "ipython3",
   "version": "3.10.10"
  },
  "papermill": {
   "default_parameters": {},
   "duration": 16.359234,
   "end_time": "2023-06-02T21:04:24.769775",
   "environment_variables": {},
   "exception": null,
   "input_path": "__notebook__.ipynb",
   "output_path": "__notebook__.ipynb",
   "parameters": {},
   "start_time": "2023-06-02T21:04:08.410541",
   "version": "2.4.0"
  }
 },
 "nbformat": 4,
 "nbformat_minor": 5
}
